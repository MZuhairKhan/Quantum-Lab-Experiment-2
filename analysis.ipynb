{
 "cells": [
  {
   "cell_type": "code",
   "execution_count": 36,
   "metadata": {},
   "outputs": [],
   "source": [
    "import pandas as pd\n",
    "import numpy as np\n",
    "import matplotlib.pyplot as plt\n",
    "import matplotlib.ticker as ticker\n",
    "from matplotlib.ticker import AutoMinorLocator\n",
    "import warnings\n",
    "\n",
    "warnings.filterwarnings('ignore')"
   ]
  },
  {
   "cell_type": "code",
   "execution_count": 21,
   "metadata": {},
   "outputs": [],
   "source": [
    "def sweep_plot(file_name: str, title: str = None, show: bool = False) -> None:\n",
    "    data = pd.read_table(file_name, sep=';')\n",
    "    data = data[[\"Frequency\", \"Power\"]]\n",
    "\n",
    "    freq = data['Frequency'] * 10**-9\n",
    "    power = data['Power'] * 10**12\n",
    "\n",
    "    # Create the plot\n",
    "    plt.rcParams['text.usetex'] = True\n",
    "    fig, ax1 = plt.subplots(figsize=(8, 5))\n",
    "    ax1.set_xlabel(\"Frequency (GHz)\", family=\"serif\", fontsize=12)\n",
    "    ax1.set_ylabel(\"Power (pW)\", family=\"serif\", fontsize=12)\n",
    "\n",
    "    plt.semilogy(freq, power, color='blue')\n",
    "    ax1.set_xlim(min(freq), max(freq))\n",
    "    #ax1.xaxis.set_major_locator(ticker.MultipleLocator(1))\n",
    "    ax1.yaxis.set_major_locator(ticker.LogLocator(base=10.0, subs=[1.0, 2.0, 5.0, 10.0], numticks=20))\n",
    "    # Set the minor tick marks\n",
    "    ax1.xaxis.set_minor_locator(AutoMinorLocator(2))\n",
    "    ax1.tick_params(axis='both', which='major', direction=\"out\", top=\"on\", right=\"on\", bottom=\"on\", length=8, labelsize=8)\n",
    "    ax1.tick_params(axis='both', which='minor', direction=\"out\", top=\"on\", right=\"on\", bottom=\"on\", length=5, labelsize=8)\n",
    "\n",
    "    # Adjust the plot layout\n",
    "    fig.tight_layout()\n",
    "    #plt.legend()\n",
    "    plt.grid(True)\n",
    "\n",
    "    if title is not None:\n",
    "        plt.title(title, pad=20)\n",
    "\n",
    "    if show:\n",
    "        # Display the plot\n",
    "        plt.show()\n",
    "    else:        \n",
    "        # Save the plot to a file\n",
    "        plt.savefig(file_name.replace('.DAT', '.png').replace('Data', 'Plots'), dpi=1000, format=\"png\", bbox_inches='tight')\n",
    "        plt.close()"
   ]
  },
  {
   "cell_type": "markdown",
   "metadata": {},
   "source": [
    "# Noise floor sweep from $0$ to $12$ GHz without load or amplifier"
   ]
  },
  {
   "cell_type": "code",
   "execution_count": 22,
   "metadata": {},
   "outputs": [],
   "source": [
    "sweep_plot('Data/noise_floor_sweep.DAT', title = 'Noise floor frequency sweep')"
   ]
  },
  {
   "cell_type": "code",
   "execution_count": 23,
   "metadata": {},
   "outputs": [],
   "source": [
    "def time_plot(file_name: str, title: str = None, show: bool = False) -> None:\n",
    "    data = pd.read_table(file_name, sep=';')\n",
    "    data = data[[\"Time\", \"Power\"]]\n",
    "\n",
    "    time = data['Time'] * 10**3\n",
    "    power = data['Power'] * 10**12\n",
    "\n",
    "    # Create the plot\n",
    "    plt.rcParams['text.usetex'] = True\n",
    "    fig, ax1 = plt.subplots(figsize=(8, 5))\n",
    "    ax1.set_xlabel(\"Time (ms)\", family=\"serif\", fontsize=12)\n",
    "    ax1.set_ylabel(\"Power (pW)\", family=\"serif\", fontsize=12)\n",
    "\n",
    "    plt.semilogy(time, power, color='blue', label = 'Raw')\n",
    "    ax1.set_xlim(min(time), max(time))\n",
    "    #ax1.xaxis.set_major_locator(ticker.MultipleLocator(1))\n",
    "    ax1.yaxis.set_major_locator(ticker.LogLocator(base=10.0, subs=[1.0, 2.0, 5.0, 10.0], numticks=20))\n",
    "    # Set the minor tick marks\n",
    "    ax1.xaxis.set_minor_locator(AutoMinorLocator(2))\n",
    "    ax1.tick_params(axis='both', which='major', direction=\"out\", top=\"on\", right=\"on\", bottom=\"on\", length=8, labelsize=8)\n",
    "    ax1.tick_params(axis='both', which='minor', direction=\"out\", top=\"on\", right=\"on\", bottom=\"on\", length=5, labelsize=8)\n",
    "    \n",
    "    mean_value = power.mean()\n",
    "\n",
    "    # Plot the mean as a horizontal line\n",
    "    plt.axhline(mean_value, color='red', linestyle='--', label='Mean')\n",
    "\n",
    "    # Additional plot formatting and customization\n",
    "    plt.legend()\n",
    "    # Adjust the plot layout\n",
    "    fig.tight_layout()\n",
    "    #plt.legend()\n",
    "    plt.grid(True)\n",
    "\n",
    "    if title is not None:\n",
    "        plt.title(title, pad=20)\n",
    "\n",
    "    if show:\n",
    "        # Display the plot\n",
    "        plt.show()\n",
    "    else:        \n",
    "        # Save the plot to a file\n",
    "        plt.savefig(file_name.replace('.DAT', '.png').replace('Data', 'Plots'), dpi=1000, format=\"png\", bbox_inches='tight')\n",
    "        plt.close()"
   ]
  },
  {
   "cell_type": "code",
   "execution_count": 24,
   "metadata": {},
   "outputs": [],
   "source": [
    "def noise_rms(file_name: str) -> int:\n",
    "    data = pd.read_table(file_name, sep=';')\n",
    "    power = data[[\"Power\"]]\n",
    "    rms = np.sqrt(np.mean(np.square(power.values)))\n",
    "    return rms * 10**12, power.mean().values[0]/rms"
   ]
  },
  {
   "cell_type": "code",
   "execution_count": 25,
   "metadata": {},
   "outputs": [],
   "source": [
    "def noise_ptp(file_name: str) -> int:\n",
    "    data = pd.read_table(file_name, sep=';')\n",
    "    power = data[[\"Power\"]]\n",
    "    mean = power.mean()\n",
    "    normalised_power = power - mean\n",
    "    noise_level = np.ptp(normalised_power).values[0]\n",
    "    return noise_level * 10**12, mean.values[0]/noise_level"
   ]
  },
  {
   "cell_type": "markdown",
   "metadata": {},
   "source": [
    "# Noise floor measurements at $6$ GHz without load or amplifier\n",
    "\n",
    "---\n",
    "\n",
    "### Raw data with the mean highlighted"
   ]
  },
  {
   "cell_type": "code",
   "execution_count": 26,
   "metadata": {},
   "outputs": [],
   "source": [
    "time_plot('Data/noise_floor_6_GHz.DAT', title = r'Noise floor at $6$ GHz without load or amplifier')"
   ]
  },
  {
   "cell_type": "markdown",
   "metadata": {},
   "source": [
    "### Noise analysis"
   ]
  },
  {
   "cell_type": "code",
   "execution_count": 27,
   "metadata": {},
   "outputs": [
    {
     "name": "stdout",
     "output_type": "stream",
     "text": [
      "The average power is 1.397245621266606 pW.\n",
      "The noise level calculated via root mean square is 1.407037539079332 pW.\n",
      "The noise level calculated via peak-to-peak is 1.0109526063506455 pW.\n",
      "\n",
      "The signal-to-noise ratio calculated via root mean square is 0.9930407558144233.\n",
      "The signal-to-noise ratio calculated via peak-to-peak is 1.3821079370974745.\n"
     ]
    }
   ],
   "source": [
    "file_name = \"Data/noise_floor_6_GHz.DAT\"\n",
    "avg_power = pd.read_table(file_name, sep=';')[[\"Power\"]].mean().values[0] * 10**12\n",
    "rms_noise, rms_ratio = noise_rms(file_name)\n",
    "ptp_noise, ptp_ratio = noise_ptp(file_name)\n",
    "\n",
    "print(f'The average power is {avg_power} pW.')\n",
    "print(f'The noise level calculated via root mean square is {rms_noise} pW.')\n",
    "print(f'The noise level calculated via peak-to-peak is {ptp_noise} pW.')\n",
    "print(f'\\nThe signal-to-noise ratio calculated via root mean square is {rms_ratio}.')\n",
    "print(f'The signal-to-noise ratio calculated via peak-to-peak is {ptp_ratio}.')"
   ]
  },
  {
   "cell_type": "markdown",
   "metadata": {},
   "source": [
    "# Noise measurements at $6$ GHz with a $50 \\Omega$ load but no amplifier\n",
    "\n",
    "---\n",
    "\n",
    "### Raw data with the mean highlighted"
   ]
  },
  {
   "cell_type": "code",
   "execution_count": 28,
   "metadata": {},
   "outputs": [],
   "source": [
    "time_plot('Data/noise_floor_6_GHz_50ohm.DAT', title = r'Noise at $6$ GHz with a $50 \\Omega$ load but without amplifier')"
   ]
  },
  {
   "cell_type": "markdown",
   "metadata": {},
   "source": [
    "### Noise analysis"
   ]
  },
  {
   "cell_type": "code",
   "execution_count": 29,
   "metadata": {},
   "outputs": [
    {
     "name": "stdout",
     "output_type": "stream",
     "text": [
      "The average power is 1.40951074770017 pW.\n",
      "The noise level calculated via root mean square is 1.4196296463375668 pW.\n",
      "The noise level calculated via peak-to-peak is 0.9987133732861092 pW.\n",
      "\n",
      "The signal-to-noise ratio calculated via root mean square is 0.9928721560137167.\n",
      "The signal-to-noise ratio calculated via peak-to-peak is 1.411326598203443.\n"
     ]
    }
   ],
   "source": [
    "file_name = \"Data/noise_floor_6_GHz_50ohm.DAT\"\n",
    "avg_power = pd.read_table(file_name, sep=';')[[\"Power\"]].mean().values[0] * 10**12\n",
    "rms_noise, rms_ratio = noise_rms(file_name)\n",
    "ptp_noise, ptp_ratio = noise_ptp(file_name)\n",
    "\n",
    "print(f'The average power is {avg_power} pW.')\n",
    "print(f'The noise level calculated via root mean square is {rms_noise} pW.')\n",
    "print(f'The noise level calculated via peak-to-peak is {ptp_noise} pW.')\n",
    "print(f'\\nThe signal-to-noise ratio calculated via root mean square is {rms_ratio}.')\n",
    "print(f'The signal-to-noise ratio calculated via peak-to-peak is {ptp_ratio}.')"
   ]
  },
  {
   "cell_type": "markdown",
   "metadata": {},
   "source": [
    "# Noise measurements at $6$ GHz with an amplifier but no load\n",
    "\n",
    "---\n",
    "\n",
    "### Raw data with the mean highlighted"
   ]
  },
  {
   "cell_type": "code",
   "execution_count": 30,
   "metadata": {},
   "outputs": [],
   "source": [
    "time_plot('Data/noise_floor_6_GHz_amplif.DAT', title = r'Noise at $6$ GHz with a $40$ dB amplifier but without load')"
   ]
  },
  {
   "cell_type": "markdown",
   "metadata": {},
   "source": [
    "### Noise analysis"
   ]
  },
  {
   "cell_type": "code",
   "execution_count": 31,
   "metadata": {},
   "outputs": [
    {
     "name": "stdout",
     "output_type": "stream",
     "text": [
      "The average power is 17.577836150786414 pW.\n",
      "The noise level calculated via root mean square is 17.706253161393406 pW.\n",
      "The noise level calculated via peak-to-peak is 15.012096600541813 pW.\n",
      "\n",
      "The signal-to-noise ratio calculated via root mean square is 0.9927473639150834.\n",
      "The signal-to-noise ratio calculated via peak-to-peak is 1.1709114734947814.\n"
     ]
    }
   ],
   "source": [
    "file_name = \"Data/noise_floor_6_GHz_amplif.DAT\"\n",
    "avg_power = pd.read_table(file_name, sep=';')[[\"Power\"]].mean().values[0] * 10**12\n",
    "rms_noise, rms_ratio = noise_rms(file_name)\n",
    "ptp_noise, ptp_ratio = noise_ptp(file_name)\n",
    "\n",
    "print(f'The average power is {avg_power} pW.')\n",
    "print(f'The noise level calculated via root mean square is {rms_noise} pW.')\n",
    "print(f'The noise level calculated via peak-to-peak is {ptp_noise} pW.')\n",
    "print(f'\\nThe signal-to-noise ratio calculated via root mean square is {rms_ratio}.')\n",
    "print(f'The signal-to-noise ratio calculated via peak-to-peak is {ptp_ratio}.')"
   ]
  },
  {
   "cell_type": "markdown",
   "metadata": {},
   "source": [
    "# Noise measurements at $6$ GHz with a $40$ dB amplifier and a $50 \\Omega$ load at $293$K\n",
    "\n",
    "---\n",
    "\n",
    "### Raw data with the mean highlighted"
   ]
  },
  {
   "cell_type": "code",
   "execution_count": 32,
   "metadata": {},
   "outputs": [],
   "source": [
    "time_plot('Data/noise_floor_6_GHz_amplif_50ohm_rt.DAT', title = r'Noise at $6$ GHz with a $40$ dB amplifier and a $50 \\Omega$ load at $293$K')"
   ]
  },
  {
   "cell_type": "markdown",
   "metadata": {},
   "source": [
    "### Noise analysis"
   ]
  },
  {
   "cell_type": "code",
   "execution_count": 33,
   "metadata": {},
   "outputs": [
    {
     "name": "stdout",
     "output_type": "stream",
     "text": [
      "The average power is 46.4540239788855 pW.\n",
      "The noise level calculated via root mean square is 46.79478776896194 pW.\n",
      "The noise level calculated via peak-to-peak is 38.51223853712504 pW.\n",
      "\n",
      "The signal-to-noise ratio calculated via root mean square is 0.9927179114101579.\n",
      "The signal-to-noise ratio calculated via peak-to-peak is 1.2062145890092764.\n"
     ]
    }
   ],
   "source": [
    "file_name = \"Data/noise_floor_6_GHz_amplif_50ohm_rt.DAT\"\n",
    "avg_power = pd.read_table(file_name, sep=';')[[\"Power\"]].mean().values[0] * 10**12\n",
    "rms_noise, rms_ratio = noise_rms(file_name)\n",
    "ptp_noise, ptp_ratio = noise_ptp(file_name)\n",
    "\n",
    "print(f'The average power is {avg_power} pW.')\n",
    "print(f'The noise level calculated via root mean square is {rms_noise} pW.')\n",
    "print(f'The noise level calculated via peak-to-peak is {ptp_noise} pW.')\n",
    "print(f'\\nThe signal-to-noise ratio calculated via root mean square is {rms_ratio}.')\n",
    "print(f'The signal-to-noise ratio calculated via peak-to-peak is {ptp_ratio}.')"
   ]
  },
  {
   "cell_type": "markdown",
   "metadata": {},
   "source": [
    "# Noise measurements at $6$ GHz with a $40$ dB amplifier and a $50 \\Omega$ load at $77$K\n",
    "\n",
    "---\n",
    "\n",
    "### Raw data with the mean highlighted"
   ]
  },
  {
   "cell_type": "code",
   "execution_count": 34,
   "metadata": {},
   "outputs": [],
   "source": [
    "time_plot('Data/noise_floor_6_GHz_amplif_50ohm_lt.DAT', title = r'Noise at $6$ GHz with a $40$ dB amplifier and a $50 \\Omega$ load at $77$K')"
   ]
  },
  {
   "cell_type": "markdown",
   "metadata": {},
   "source": [
    "### Noise analysis"
   ]
  },
  {
   "cell_type": "code",
   "execution_count": 35,
   "metadata": {},
   "outputs": [
    {
     "name": "stdout",
     "output_type": "stream",
     "text": [
      "The average power is 28.985810319627877 pW.\n",
      "The noise level calculated via root mean square is 29.183656631489008 pW.\n",
      "The noise level calculated via peak-to-peak is 20.15551614498179 pW.\n",
      "\n",
      "The signal-to-noise ratio calculated via root mean square is 0.9932206469408753.\n",
      "The signal-to-noise ratio calculated via peak-to-peak is 1.4381080648656377.\n"
     ]
    }
   ],
   "source": [
    "file_name = \"Data/noise_floor_6_GHz_amplif_50ohm_lt.DAT\"\n",
    "avg_power = pd.read_table(file_name, sep=';')[[\"Power\"]].mean().values[0] * 10**12\n",
    "rms_noise, rms_ratio = noise_rms(file_name)\n",
    "ptp_noise, ptp_ratio = noise_ptp(file_name)\n",
    "\n",
    "print(f'The average power is {avg_power} pW.')\n",
    "print(f'The noise level calculated via root mean square is {rms_noise} pW.')\n",
    "print(f'The noise level calculated via peak-to-peak is {ptp_noise} pW.')\n",
    "print(f'\\nThe signal-to-noise ratio calculated via root mean square is {rms_ratio}.')\n",
    "print(f'The signal-to-noise ratio calculated via peak-to-peak is {ptp_ratio}.')"
   ]
  },
  {
   "cell_type": "code",
   "execution_count": 45,
   "metadata": {},
   "outputs": [],
   "source": [
    "def compare(file_name1: str, file_name2: str, save_name: str, title: str = None, show: bool = False) -> None:\n",
    "    data = pd.read_table(file_name1, sep=';')\n",
    "    time = data['Time'] * 10**3\n",
    "    power1 = data['Power'] * 10**12\n",
    "    data = pd.read_table(file_name2, sep=';')\n",
    "    power2 = data['Power'] * 10**12\n",
    "    # Create the plot\n",
    "    plt.rcParams['text.usetex'] = True\n",
    "    fig, ax1 = plt.subplots(figsize=(8, 5))\n",
    "    ax1.set_xlabel(\"Time (ms)\", family=\"serif\", fontsize=12)\n",
    "    ax1.set_ylabel(\"Power (pW)\", family=\"serif\", fontsize=12)\n",
    "\n",
    "    plt.semilogy(time, power1, color='red', label = r'Raw data at $298$ K')\n",
    "    plt.semilogy(time, power2, color='blue', label = r'Raw data at $77$ K')\n",
    "    ax1.set_xlim(min(time), max(time))\n",
    "    #ax1.xaxis.set_major_locator(ticker.MultipleLocator(1))\n",
    "    ax1.yaxis.set_major_locator(ticker.LogLocator(base=10.0, subs=[1.0, 2.0, 5.0, 10.0], numticks=20))\n",
    "    # Set the minor tick marks\n",
    "    ax1.xaxis.set_minor_locator(AutoMinorLocator(2))\n",
    "    ax1.tick_params(axis='both', which='major', direction=\"out\", top=\"on\", right=\"on\", bottom=\"on\", length=8, labelsize=8)\n",
    "    ax1.tick_params(axis='both', which='minor', direction=\"out\", top=\"on\", right=\"on\", bottom=\"on\", length=5, labelsize=8)\n",
    "    \n",
    "    mean_value1 = power1.mean()\n",
    "    mean_value2 = power2.mean()\n",
    "\n",
    "    # Plot the mean as a horizontal line\n",
    "    plt.axhline(mean_value1, color='seagreen', linestyle='--', label=r'Average at $298$ K')\n",
    "    plt.axhline(mean_value2, color='yellow', linestyle='--', label=r'Average at $77$ K')\n",
    "\n",
    "    # Additional plot formatting and customization\n",
    "    plt.legend(loc=\"lower right\")\n",
    "    # Adjust the plot layout\n",
    "    fig.tight_layout()\n",
    "    #plt.legend()\n",
    "    plt.grid(True)\n",
    "\n",
    "    if title is not None:\n",
    "        plt.title(title, pad=20)\n",
    "\n",
    "    if show:\n",
    "        # Display the plot\n",
    "        plt.show()\n",
    "    else:        \n",
    "        # Save the plot to a file\n",
    "        plt.savefig(save_name, dpi=1000, format=\"png\", bbox_inches='tight')\n",
    "        plt.close()"
   ]
  },
  {
   "cell_type": "code",
   "execution_count": 46,
   "metadata": {},
   "outputs": [],
   "source": [
    "compare('Data/noise_floor_6_GHz_amplif_50ohm_rt.DAT', 'Data/noise_floor_6_GHz_amplif_50ohm_lt.DAT', 'Plots/comparison.png', title = r'Noise at $298$ K and $77$ K')"
   ]
  }
 ],
 "metadata": {
  "kernelspec": {
   "display_name": "khanm",
   "language": "python",
   "name": "python3"
  },
  "language_info": {
   "codemirror_mode": {
    "name": "ipython",
    "version": 3
   },
   "file_extension": ".py",
   "mimetype": "text/x-python",
   "name": "python",
   "nbconvert_exporter": "python",
   "pygments_lexer": "ipython3",
   "version": "0.0.0"
  },
  "orig_nbformat": 4
 },
 "nbformat": 4,
 "nbformat_minor": 2
}
